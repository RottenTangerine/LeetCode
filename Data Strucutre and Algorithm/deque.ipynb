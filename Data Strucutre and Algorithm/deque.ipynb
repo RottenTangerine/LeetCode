{
 "cells": [
  {
   "cell_type": "markdown",
   "source": [
    "## import deque"
   ],
   "metadata": {
    "collapsed": false,
    "pycharm": {
     "name": "#%% md\n"
    }
   }
  },
  {
   "cell_type": "code",
   "execution_count": 5,
   "metadata": {
    "collapsed": true
   },
   "outputs": [],
   "source": [
    "from collections import deque\n",
    "from icecream import ic"
   ]
  },
  {
   "cell_type": "code",
   "execution_count": 4,
   "outputs": [
    {
     "data": {
      "text/plain": "deque(['name', 'age', 'DOB'])"
     },
     "execution_count": 4,
     "metadata": {},
     "output_type": "execute_result"
    }
   ],
   "source": [
    "queue = deque([\"name\", \"age\", \"DOB\"])\n",
    "queue"
   ],
   "metadata": {
    "collapsed": false,
    "pycharm": {
     "name": "#%%\n"
    }
   }
  },
  {
   "cell_type": "markdown",
   "source": [
    "## Operations\n",
    "\n",
    "- `append()`\n",
    "- `appendleft()`\n",
    "- `pop()`\n",
    "- `popleft()`"
   ],
   "metadata": {
    "collapsed": false,
    "pycharm": {
     "name": "#%% md\n"
    }
   }
  },
  {
   "cell_type": "code",
   "execution_count": 10,
   "outputs": [
    {
     "name": "stdout",
     "output_type": "stream",
     "text": [
      "deque([1, 2, 3])\n",
      "deque([5, 1, 2, 3, 4])\n",
      "deque([1, 2, 3])\n"
     ]
    }
   ],
   "source": [
    "queue = deque([1, 2, 3])\n",
    "print(queue)\n",
    "\n",
    "queue.append(4)\n",
    "queue.appendleft(5)\n",
    "print(queue)\n",
    "\n",
    "queue.pop()\n",
    "queue.popleft()\n",
    "print(queue)"
   ],
   "metadata": {
    "collapsed": false,
    "pycharm": {
     "name": "#%%\n"
    }
   }
  },
  {
   "cell_type": "markdown",
   "source": [
    "## Functions\n",
    "\n",
    "- `index(v, start, end)` returns the first index of the value mentioned in arguments, starting searching from start till end index.\n",
    "- `insert(i, v)` inserts the value at index(i).\n",
    "- `remove()`  removes the first occurrence of value\n",
    "- `count()` counts the number of occurrences of value"
   ],
   "metadata": {
    "collapsed": false,
    "pycharm": {
     "name": "#%% md\n"
    }
   }
  },
  {
   "cell_type": "code",
   "execution_count": 43,
   "outputs": [
    {
     "name": "stdout",
     "output_type": "stream",
     "text": [
      "deque([7, 8, 9, 10, 5, 6, 7])\n",
      "deque([7, 8, 9, 10, 5, 7, 6, 7])\n",
      "deque([8, 9, 10, 5, 7, 6, 7])\n",
      "Index of 5 is: 3\n",
      "Number of 7 is: 2\n"
     ]
    }
   ],
   "source": [
    "queue = deque(range(7, 11))\n",
    "queue.extend(range(5, 8))\n",
    "print(queue)\n",
    "\n",
    "queue.insert(5, 7) # insert 7 at 6th position\n",
    "print(queue)\n",
    "\n",
    "queue.remove(7)\n",
    "print(queue)\n",
    "\n",
    "\n",
    "print('Index of 5 is: ', end='')\n",
    "print(queue.index(5, 2, 9))\n",
    "\n",
    "print('Number of 7 is: ', end='')\n",
    "print(queue.count(7))"
   ],
   "metadata": {
    "collapsed": false,
    "pycharm": {
     "name": "#%%\n"
    }
   }
  },
  {
   "cell_type": "markdown",
   "source": [
    "- `extend(iterable)`: Add(combine) multiple values at the right end of the deque.\n",
    "- `extendleft(iterable)`: Add(combine) multiple values at the left end of the deque. **Order is reversed as a result of left appends.**\n",
    "- `reverse()`: reverse the order of deque elements.\n",
    "- `rotate()`: rotates the deque by the number specified in arguments."
   ],
   "metadata": {
    "collapsed": false,
    "pycharm": {
     "name": "#%% md\n"
    }
   }
  },
  {
   "cell_type": "code",
   "execution_count": 40,
   "outputs": [
    {
     "name": "stdout",
     "output_type": "stream",
     "text": [
      "deque([9, 8, 7, 1, 2, 3, 4, 5, 6])\n",
      "deque([2, 3, 4, 5, 6, 9, 8, 7, 1])\n",
      "deque([1, 7, 8, 9, 6, 5, 4, 3, 2])\n"
     ]
    }
   ],
   "source": [
    "queue = deque([1, 2, 3])\n",
    "queue.extend([4, 5, 6])\n",
    "queue.extendleft([7, 8, 9])\n",
    "print(queue)\n",
    "\n",
    "queue.rotate(-4)\n",
    "print(queue)\n",
    "\n",
    "queue.reverse()\n",
    "print(queue)"
   ],
   "metadata": {
    "collapsed": false,
    "pycharm": {
     "name": "#%%\n"
    }
   }
  }
 ],
 "metadata": {
  "kernelspec": {
   "display_name": "Python 3",
   "language": "python",
   "name": "python3"
  },
  "language_info": {
   "codemirror_mode": {
    "name": "ipython",
    "version": 2
   },
   "file_extension": ".py",
   "mimetype": "text/x-python",
   "name": "python",
   "nbconvert_exporter": "python",
   "pygments_lexer": "ipython2",
   "version": "2.7.6"
  }
 },
 "nbformat": 4,
 "nbformat_minor": 0
}